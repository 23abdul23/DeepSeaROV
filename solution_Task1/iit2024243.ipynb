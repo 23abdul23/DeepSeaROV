{
 "cells": [
  {
   "cell_type": "code",
   "execution_count": 1,
   "id": "685ebfa3-64ad-4ca9-ab1e-7d0df71ea167",
   "metadata": {},
   "outputs": [],
   "source": [
    "#import the required libraries and packages\n",
    "import os\n",
    "from tensorflow.keras.preprocessing.image import ImageDataGenerator\n"
   ]
  },
  {
   "cell_type": "code",
   "execution_count": 6,
   "id": "4ae32f14-b8eb-4f55-b7b1-5f6b55f813a3",
   "metadata": {},
   "outputs": [],
   "source": [
    "#load the dataset\n",
    "dataset_path = r\"C:\\Users\\Azeem\\Downloads\\Deepdive\"\n",
    "\n",
    "train_dir = os.path.join(dataset_path, \"train\")\n",
    "test_dir = os.path.join(dataset_path, \"test\")\n",
    "validation_dir = os.path.join(dataset_path, \"validation\")"
   ]
  },
  {
   "cell_type": "code",
   "execution_count": 7,
   "id": "e531dfb7",
   "metadata": {},
   "outputs": [
    {
     "name": "stdout",
     "output_type": "stream",
     "text": [
      "Found 2667 images belonging to 33 classes.\n",
      "Found 660 images belonging to 33 classes.\n",
      "Found 667 images belonging to 33 classes.\n"
     ]
    }
   ],
   "source": [
    "train_data = ImageDataGenerator(rescale= 1.0/255)\n",
    "test_data = ImageDataGenerator(rescale= 1.0/255)\n",
    "validation_data = ImageDataGenerator(rescale= 1.0/255)\n",
    "\n",
    "train_generator = train_data.flow_from_directory(\n",
    "    train_dir,\n",
    "    target_size = (224,224),\n",
    "    class_mode = \"categorical\",\n",
    "    batch_size = 32\n",
    ")\n",
    "\n",
    "test_generator = test_data.flow_from_directory(\n",
    "    test_dir,\n",
    "    target_size = (224,224),\n",
    "    class_mode = \"categorical\",\n",
    "    batch_size = 32\n",
    ")\n",
    "\n",
    "validation_generator = validation_data.flow_from_directory(\n",
    "    validation_dir,\n",
    "    target_size = (224,224),\n",
    "    class_mode = \"categorical\",\n",
    "    batch_size = 32\n",
    ")"
   ]
  },
  {
   "cell_type": "code",
   "execution_count": null,
   "id": "831afa54-58dd-4e1a-8f30-633d791499c5",
   "metadata": {},
   "outputs": [],
   "source": []
  }
 ],
 "metadata": {
  "kernelspec": {
   "display_name": "Python 3",
   "language": "python",
   "name": "python3"
  },
  "language_info": {
   "codemirror_mode": {
    "name": "ipython",
    "version": 3
   },
   "file_extension": ".py",
   "mimetype": "text/x-python",
   "name": "python",
   "nbconvert_exporter": "python",
   "pygments_lexer": "ipython3",
   "version": "3.11.3"
  }
 },
 "nbformat": 4,
 "nbformat_minor": 5
}
