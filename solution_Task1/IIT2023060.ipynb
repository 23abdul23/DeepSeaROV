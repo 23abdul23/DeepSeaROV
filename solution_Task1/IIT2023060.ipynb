{
 "cells": [
  {
   "cell_type": "code",
   "execution_count": 1,
   "metadata": {},
   "outputs": [
    {
     "name": "stdout",
     "output_type": "stream",
     "text": [
      "WARNING:tensorflow:From c:\\Users\\rites\\anaconda3\\Lib\\site-packages\\keras\\src\\losses.py:2976: The name tf.losses.sparse_softmax_cross_entropy is deprecated. Please use tf.compat.v1.losses.sparse_softmax_cross_entropy instead.\n",
      "\n"
     ]
    }
   ],
   "source": [
    "import os\n",
    "import zipfile\n",
    "import numpy as np\n",
    "import pandas as pd\n",
    "import matplotlib.pyplot as plt\n",
    "import seaborn as sns\n",
    "import tensorflow as tf\n",
    "from tensorflow.keras.preprocessing.image import ImageDataGenerator"
   ]
  },
  {
   "cell_type": "code",
   "execution_count": 2,
   "metadata": {},
   "outputs": [
    {
     "name": "stdout",
     "output_type": "stream",
     "text": [
      "Dataset extracted successfully.\n",
      "Train Directory: Deepdive\\train\n",
      "Validation Directory: Deepdive\\validation\n",
      "Test Directory: Deepdive\\test\n",
      "Found 2667 images belonging to 33 classes.\n",
      "Found 667 images belonging to 33 classes.\n",
      "Found 660 images belonging to 33 classes.\n"
     ]
    }
   ],
   "source": [
    "\n",
    "dataset_zip_path = 'Deepdive.zip'\n",
    "extracted_folder = 'Deepdive'\n",
    "\n",
    "if not os.path.exists(extracted_folder):\n",
    "    with zipfile.ZipFile(dataset_zip_path, 'r') as zip_ref:\n",
    "        zip_ref.extractall(extracted_folder)\n",
    "        print(\"Dataset extracted successfully.\")\n",
    "else:\n",
    "    print(\"Dataset already extracted.\")\n",
    "\n",
    "train_dir = os.path.join(extracted_folder, 'train')\n",
    "validation_dir = os.path.join(extracted_folder, 'validation')\n",
    "test_dir = os.path.join(extracted_folder, 'test')\n",
    "\n",
    "print(f\"Train Directory: {train_dir}\")\n",
    "print(f\"Validation Directory: {validation_dir}\")\n",
    "print(f\"Test Directory: {test_dir}\")\n",
    "\n",
    "train_datagen = ImageDataGenerator(\n",
    "    rescale=1./255,\n",
    "    rotation_range=30,\n",
    "    width_shift_range=0.2,\n",
    "    height_shift_range=0.2,\n",
    "    shear_range=0.2,\n",
    "    zoom_range=0.2,\n",
    "    horizontal_flip=True,\n",
    "    fill_mode='nearest'\n",
    ")\n",
    "\n",
    "validation_test_datagen = ImageDataGenerator(\n",
    "    rescale=1./255\n",
    ")\n",
    "\n",
    "train_generator = train_datagen.flow_from_directory(\n",
    "    train_dir,\n",
    "    target_size=(224, 224),\n",
    "    batch_size=32,\n",
    "    class_mode='categorical',\n",
    "    shuffle=True \n",
    ")\n",
    "\n",
    "validation_generator = validation_test_datagen.flow_from_directory(\n",
    "    validation_dir,\n",
    "    target_size=(224, 224),\n",
    "    batch_size=32,\n",
    "    class_mode='categorical',\n",
    "    shuffle=False\n",
    ")\n",
    "\n",
    "test_generator = validation_test_datagen.flow_from_directory(\n",
    "    test_dir,\n",
    "    target_size=(224, 224),\n",
    "    batch_size=32,\n",
    "    class_mode='categorical',\n",
    "    shuffle=False\n",
    ")\n"
   ]
  },
  {
   "cell_type": "code",
   "execution_count": null,
   "metadata": {},
   "outputs": [],
   "source": []
  }
 ],
 "metadata": {
  "kernelspec": {
   "display_name": "base",
   "language": "python",
   "name": "python3"
  },
  "language_info": {
   "codemirror_mode": {
    "name": "ipython",
    "version": 3
   },
   "file_extension": ".py",
   "mimetype": "text/x-python",
   "name": "python",
   "nbconvert_exporter": "python",
   "pygments_lexer": "ipython3",
   "version": "3.11.5"
  }
 },
 "nbformat": 4,
 "nbformat_minor": 2
}
