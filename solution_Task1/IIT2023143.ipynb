{
 "cells": [
  {
   "cell_type": "code",
   "execution_count": 4,
   "metadata": {},
   "outputs": [],
   "source": [
    "#import the required libraries and packages\n",
    "import tensorflow as tf\n",
    "from tensorflow.keras.preprocessing import image_dataset_from_directory\n"
   ]
  },
  {
   "cell_type": "code",
   "execution_count": 5,
   "metadata": {},
   "outputs": [
    {
     "name": "stdout",
     "output_type": "stream",
     "text": [
      "Found 2667 files belonging to 33 classes.\n",
      "Found 667 files belonging to 33 classes.\n",
      "Found 660 files belonging to 33 classes.\n",
      "Training dataset loaded with 84 batches.\n",
      "Validation dataset loaded with 21 batches.\n",
      "Test dataset loaded with 21 batches.\n",
      "Class names: ['Anthomastus Like coral', 'Arborescent Stumpy Grey Branching Erect sponges', 'Arborescent coral', 'Attached Stony coral', 'Bioturbation - Organism tests', 'Bony fishes', 'Colonial Unstalked Ascidian', 'Crab', 'Ctenophores jellies', 'Cup-likes sponges', 'Eels', 'Feather stars', 'Free-living coral', 'General unknown biology', 'Hermit Crab with Shell or Stone', 'Irregular urchins', 'Laminar Erect sponges', 'Octopods', 'Other anemones', 'Prawns - Shrimps - Mysids', 'Quill (Sea pen) coral', 'Sea Cucumber', 'Sea stars', 'Sea urchins', 'Sea whip coral', 'Simple Branching coral', 'Snake stars', 'Squat lobsters', 'Stalked Erect sponges', 'True lobsters', 'Tube anemones', 'Tube worms', 'Woody debris']\n"
     ]
    }
   ],
   "source": [
    "# Load the dataset\n",
    "\n",
    "dataset_path = \"/Users/kartiksharma/Desktop/DEEP-SEA-ROV FINAL/Deepdive\"\n",
    "\n",
    "\n",
    "\n",
    "batch_size = 32\n",
    "image_size = (224, 224)\n",
    "\n",
    "\n",
    "train_dataset = image_dataset_from_directory(\n",
    "    f\"{dataset_path}/train\",\n",
    "    labels='inferred',\n",
    "    label_mode='int',\n",
    "    batch_size=batch_size,\n",
    "    image_size=image_size,\n",
    "    shuffle=True,\n",
    "    seed=123\n",
    ")\n",
    "\n",
    "\n",
    "validation_dataset = image_dataset_from_directory(\n",
    "    f\"{dataset_path}/validation\",\n",
    "    labels='inferred',\n",
    "    label_mode='int',\n",
    "    batch_size=batch_size,\n",
    "    image_size=image_size,\n",
    "    shuffle=True,\n",
    "    seed=123\n",
    ")\n",
    "\n",
    "\n",
    "test_dataset = image_dataset_from_directory(\n",
    "    f\"{dataset_path}/test\",\n",
    "    labels='inferred',\n",
    "    label_mode='int',\n",
    "    batch_size=batch_size,\n",
    "    image_size=image_size,\n",
    "    shuffle=False\n",
    ")\n",
    "\n",
    "\n",
    "print(f\"Training dataset loaded with {len(train_dataset)} batches.\")\n",
    "print(f\"Validation dataset loaded with {len(validation_dataset)} batches.\")\n",
    "print(f\"Test dataset loaded with {len(test_dataset)} batches.\")\n",
    "print(f\"Class names: {train_dataset.class_names}\")\n"
   ]
  }
 ],
 "metadata": {
  "kernelspec": {
   "display_name": "base",
   "language": "python",
   "name": "python3"
  },
  "language_info": {
   "codemirror_mode": {
    "name": "ipython",
    "version": 3
   },
   "file_extension": ".py",
   "mimetype": "text/x-python",
   "name": "python",
   "nbconvert_exporter": "python",
   "pygments_lexer": "ipython3",
   "version": "3.11.7"
  }
 },
 "nbformat": 4,
 "nbformat_minor": 2
}
