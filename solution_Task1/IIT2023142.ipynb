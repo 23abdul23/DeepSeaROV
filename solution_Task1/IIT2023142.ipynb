{
 "cells": [
  {
   "cell_type": "code",
   "execution_count": 1,
   "id": "cebaf1c1-279e-49d4-830e-004bb37c92dc",
   "metadata": {},
   "outputs": [],
   "source": [
    "# Importing libraries for data handling and visualization\n",
    "import os  # To handle file and directory operations\n",
    "import numpy as np  # For numerical computations\n",
    "import pandas as pd  # For handling tabular data (if applicable)\n",
    "\n",
    "# Importing libraries for deep learning and image preprocessing\n",
    "import tensorflow as tf  # TensorFlow for building and training deep learning models\n",
    "from tensorflow.keras.preprocessing.image import ImageDataGenerator  # To preprocess image data\n",
    "\n",
    "# Importing libraries for visualization\n",
    "import matplotlib.pyplot as plt  # For plotting and visualizing images\n"
   ]
  },
  {
   "cell_type": "code",
   "execution_count": 3,
   "id": "9b702c64-4b68-4cb2-92b7-259883e9058e",
   "metadata": {},
   "outputs": [
    {
     "name": "stdout",
     "output_type": "stream",
     "text": [
      "Train Directory: /Users/shwetkumar/Documents/ML/Deepdive/train\n",
      "Test Directory: /Users/shwetkumar/Documents/ML/Deepdive/test\n",
      "Validation Directory: /Users/shwetkumar/Documents/ML/Deepdive/validation\n",
      "Found 2667 images belonging to 33 classes.\n",
      "Found 667 images belonging to 33 classes.\n",
      "Found 660 images belonging to 33 classes.\n",
      "Data generators created successfully!\n"
     ]
    }
   ],
   "source": [
    "import os\n",
    "from tensorflow.keras.preprocessing.image import ImageDataGenerator\n",
    "\n",
    "# Define the folder where the dataset is extracted\n",
    "# Ensure `extracted_folder` contains 'train', 'test', and 'validation' directories\n",
    "extracted_folder = \"/Users/shwetkumar/Documents/ML/Deepdive\"\n",
    "\n",
    "# Define paths for train, test, and validation directories\n",
    "train_dir = os.path.join(extracted_folder, 'train')\n",
    "test_dir = os.path.join(extracted_folder, 'test')\n",
    "validation_dir = os.path.join(extracted_folder, 'validation')\n",
    "\n",
    "# Print the directory paths for verification\n",
    "print(f\"Train Directory: {train_dir}\")\n",
    "print(f\"Test Directory: {test_dir}\")\n",
    "print(f\"Validation Directory: {validation_dir}\")\n",
    "\n",
    "# Verify the existence of required directories\n",
    "if not (os.path.exists(train_dir) and os.path.exists(test_dir) and os.path.exists(validation_dir)):\n",
    "    raise FileNotFoundError(\"One or more required directories (train, test, validation) are missing!\")\n",
    "\n",
    "# Create ImageDataGenerator instances for training and testing datasets\n",
    "# Rescaling pixel values to [0, 1] to normalize the data\n",
    "train_datagen = ImageDataGenerator(rescale=1.0 / 255)\n",
    "test_datagen = ImageDataGenerator(rescale=1.0 / 255)\n",
    "\n",
    "# Create data generators for training, validation, and testing datasets\n",
    "# Train Generator: Loads and preprocesses images from the training directory\n",
    "train_generator = train_datagen.flow_from_directory(\n",
    "    train_dir,\n",
    "    target_size=(224, 224),  # Resize images to 224x224\n",
    "    batch_size=32,  # Number of images in each batch\n",
    "    class_mode='categorical'  # Assumes multi-class classification problem\n",
    ")\n",
    "\n",
    "# Validation Generator: Loads and preprocesses images from the validation directory\n",
    "validation_generator = test_datagen.flow_from_directory(\n",
    "    validation_dir,\n",
    "    target_size=(224, 224),\n",
    "    batch_size=32,\n",
    "    class_mode='categorical'\n",
    ")\n",
    "\n",
    "# Test Generator: Loads and preprocesses images from the test directory\n",
    "test_generator = test_datagen.flow_from_directory(\n",
    "    test_dir,\n",
    "    target_size=(224, 224),\n",
    "    batch_size=32,\n",
    "    class_mode='categorical'\n",
    ")\n",
    "\n",
    "# Confirm successful loading\n",
    "print(\"Data generators created successfully!\")\n"
   ]
  },
  {
   "cell_type": "code",
   "execution_count": null,
   "id": "cd3b4b98-1a45-4320-ae83-2e9fdd3a5601",
   "metadata": {},
   "outputs": [],
   "source": []
  }
 ],
 "metadata": {
  "kernelspec": {
   "display_name": "Python [conda env:base] *",
   "language": "python",
   "name": "conda-base-py"
  },
  "language_info": {
   "codemirror_mode": {
    "name": "ipython",
    "version": 3
   },
   "file_extension": ".py",
   "mimetype": "text/x-python",
   "name": "python",
   "nbconvert_exporter": "python",
   "pygments_lexer": "ipython3",
   "version": "3.12.7"
  }
 },
 "nbformat": 4,
 "nbformat_minor": 5
}
