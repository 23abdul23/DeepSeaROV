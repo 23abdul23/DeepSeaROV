{
 "cells": [
  {
   "cell_type": "code",
   "execution_count": 9,
   "id": "685ebfa3-64ad-4ca9-ab1e-7d0df71ea167",
   "metadata": {},
   "outputs": [],
   "source": [
    "#import the required libraries and packages\n",
    "import os\n",
    "import zipfile\n",
    "import tensorflow as tf\n",
    "from tensorflow.keras.preprocessing import image_dataset_from_directory"
   ]
  },
  {
   "cell_type": "code",
   "execution_count": 15,
   "id": "4ae32f14-b8eb-4f55-b7b1-5f6b55f813a3",
   "metadata": {},
   "outputs": [
    {
     "name": "stdout",
     "output_type": "stream",
     "text": [
      "Found 660 files belonging to 33 classes.\n",
      "Found 2667 files belonging to 33 classes.\n",
      "Found 667 files belonging to 33 classes.\n"
     ]
    }
   ],
   "source": [
    "#load the dataset\n",
    "\n",
    "# unzip the file\n",
    "zipfile = \"Deepdive.zip\"\n",
    "extracted_folder = \"Deepdive\"\n",
    "\n",
    "if not os.path.isdir(extracted_folder):\n",
    "    with zipfile.ZipFile(zipfile, 'r') as zip_ref:\n",
    "        zip_ref.extractall(extracted_folder)\n",
    "\n",
    "# data details\n",
    "batch_size = 32\n",
    "image_size = (256, 256)\n",
    "\n",
    "images_directory = os.path.join(os.getcwd(), extracted_folder)\n",
    "\n",
    "# load test, train, validation\n",
    "test_dataset = image_dataset_from_directory(\n",
    "    os.path.join(images_directory, \"test\"),\n",
    "    labels='inferred',\n",
    "    label_mode='int',\n",
    "    class_names=None,\n",
    "    color_mode='rgb',\n",
    "    batch_size=batch_size,\n",
    "    image_size=image_size,\n",
    "    shuffle=True,\n",
    "    seed=0,\n",
    "    validation_split=None,\n",
    "    subset=None,\n",
    "    interpolation='bilinear',\n",
    "    follow_links=False,\n",
    "    crop_to_aspect_ratio=False,\n",
    "    pad_to_aspect_ratio=False,\n",
    "    data_format=None,\n",
    "    verbose=True\n",
    ")\n",
    "\n",
    "train_dataset = image_dataset_from_directory(\n",
    "    os.path.join(images_directory, \"train\"),\n",
    "    labels='inferred',\n",
    "    label_mode='int',\n",
    "    class_names=None,\n",
    "    color_mode='rgb',\n",
    "    batch_size=batch_size,\n",
    "    image_size=image_size,\n",
    "    shuffle=True,\n",
    "    seed=0,\n",
    "    validation_split=None,\n",
    "    subset=None,\n",
    "    interpolation='bilinear',\n",
    "    follow_links=False,\n",
    "    crop_to_aspect_ratio=False,\n",
    "    pad_to_aspect_ratio=False,\n",
    "    data_format=None,\n",
    "    verbose=True\n",
    ")\n",
    "\n",
    "validation_dataset = image_dataset_from_directory(\n",
    "    os.path.join(images_directory, \"validation\"),\n",
    "    labels='inferred',\n",
    "    label_mode='int',\n",
    "    class_names=None,\n",
    "    color_mode='rgb',\n",
    "    batch_size=batch_size,\n",
    "    image_size=image_size,\n",
    "    shuffle=True,\n",
    "    seed=0,\n",
    "    validation_split=None,\n",
    "    subset=None,\n",
    "    interpolation='bilinear',\n",
    "    follow_links=False,\n",
    "    crop_to_aspect_ratio=False,\n",
    "    pad_to_aspect_ratio=False,\n",
    "    data_format=None,\n",
    "    verbose=True\n",
    ")"
   ]
  },
  {
   "cell_type": "code",
   "execution_count": 11,
   "id": "80e81518-e117-4027-98a6-5925960a821f",
   "metadata": {},
   "outputs": [
    {
     "data": {
      "text/plain": [
       "'C:\\\\Users\\\\apoorv012\\\\My Jupyter Notebook\\\\DeepSeaROV\\\\solution_Task1'"
      ]
     },
     "execution_count": 11,
     "metadata": {},
     "output_type": "execute_result"
    }
   ],
   "source": []
  },
  {
   "cell_type": "code",
   "execution_count": null,
   "id": "831afa54-58dd-4e1a-8f30-633d791499c5",
   "metadata": {},
   "outputs": [],
   "source": []
  },
  {
   "cell_type": "code",
   "execution_count": null,
   "id": "29180619-bfaa-4e53-8e94-300f86bc81e9",
   "metadata": {},
   "outputs": [],
   "source": []
  },
  {
   "cell_type": "code",
   "execution_count": null,
   "id": "727290ce-df81-4412-b5ac-7b0b9030a170",
   "metadata": {},
   "outputs": [],
   "source": []
  }
 ],
 "metadata": {
  "kernelspec": {
   "display_name": "Python 3 (ipykernel)",
   "language": "python",
   "name": "python3"
  },
  "language_info": {
   "codemirror_mode": {
    "name": "ipython",
    "version": 3
   },
   "file_extension": ".py",
   "mimetype": "text/x-python",
   "name": "python",
   "nbconvert_exporter": "python",
   "pygments_lexer": "ipython3",
   "version": "3.11.7"
  }
 },
 "nbformat": 4,
 "nbformat_minor": 5
}
