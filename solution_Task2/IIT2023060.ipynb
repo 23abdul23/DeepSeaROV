{
 "nbformat": 4,
 "nbformat_minor": 0,
 "metadata": {
  "colab": {
   "provenance": []
  },
  "kernelspec": {
   "name": "python3",
   "language": "python",
   "display_name": "Python 3 (ipykernel)"
  },
  "language_info": {
   "name": "python"
  }
 },
 "cells": [
  {
   "cell_type": "code",
   "execution_count": 37,
   "metadata": {
    "id": "nDYjlc-sQ3kp",
    "ExecuteTime": {
     "end_time": "2024-12-18T06:41:04.302994700Z",
     "start_time": "2024-12-18T06:41:04.143164400Z"
    }
   },
   "outputs": [],
   "source": [
    "import os\n",
    "import cv2\n",
    "import zipfile\n",
    "import numpy as np\n",
    "import pandas as pd\n",
    "import matplotlib.pyplot as plt\n",
    "import tensorflow as tf\n",
    "from tensorflow.keras.preprocessing.image import ImageDataGenerator"
   ]
  },
  {
   "cell_type": "code",
   "source": [
    "\n",
    "dataset_zip_path = 'Deepdive.zip'\n",
    "extracted_folder = 'Deepdive'\n",
    "\n",
    "if not os.path.exists(extracted_folder):\n",
    "    with zipfile.ZipFile(dataset_zip_path, 'r') as zip_ref:\n",
    "        zip_ref.extractall(extracted_folder)\n",
    "        print(\"Dataset extracted successfully.\")\n",
    "else:\n",
    "    print(\"Dataset already extracted.\")\n",
    "\n",
    "train_dir = os.path.join(extracted_folder, 'train')\n",
    "validation_dir = os.path.join(extracted_folder, 'validation')\n",
    "test_dir = os.path.join(extracted_folder, 'test')\n",
    "\n",
    "print(f\"Train Directory: {train_dir}\")\n",
    "print(f\"Validation Directory: {validation_dir}\")\n",
    "print(f\"Test Directory: {test_dir}\")\n",
    "\n",
    "train_datagen = ImageDataGenerator(\n",
    "    rescale=1./255,\n",
    "    rotation_range=30,\n",
    "    width_shift_range=0.2,\n",
    "    height_shift_range=0.2,\n",
    "    shear_range=0.2,\n",
    "    zoom_range=0.2,\n",
    "    horizontal_flip=True,\n",
    "    fill_mode='nearest'\n",
    ")\n",
    "\n",
    "validation_test_datagen = ImageDataGenerator(\n",
    "    rescale=1./255\n",
    ")\n",
    "\n",
    "train_generator = train_datagen.flow_from_directory(\n",
    "    train_dir,\n",
    "    target_size=(224, 224),\n",
    "    batch_size=32,\n",
    "    class_mode='categorical',\n",
    "    shuffle=True \n",
    ")\n",
    "\n",
    "validation_generator = validation_test_datagen.flow_from_directory(\n",
    "    validation_dir,\n",
    "    target_size=(224, 224),\n",
    "    batch_size=32,\n",
    "    class_mode='categorical',\n",
    "    shuffle=False\n",
    ")\n",
    "\n",
    "test_generator = validation_test_datagen.flow_from_directory(\n",
    "    test_dir,\n",
    "    target_size=(224, 224),\n",
    "    batch_size=32,\n",
    "    class_mode='categorical',\n",
    "    shuffle=False\n",
    ")\n"
   ],
   "metadata": {
    "colab": {
     "base_uri": "https://localhost:8080/"
    },
    "id": "46gO71RBmATk",
    "outputId": "b685f53b-808b-4577-f187-32561189132c",
    "ExecuteTime": {
     "end_time": "2024-12-18T06:20:36.949362100Z",
     "start_time": "2024-12-18T06:19:28.705888400Z"
    }
   },
   "execution_count": 31,
   "outputs": [
    {
     "name": "stdout",
     "output_type": "stream",
     "text": [
      "Dataset extracted successfully.\n",
      "Train Directory: Deepdive/train\n",
      "Validation Directory: Deepdive/validation\n",
      "Test Directory: Deepdive/test\n",
      "Found 2667 images belonging to 33 classes.\n",
      "Found 667 images belonging to 33 classes.\n",
      "Found 660 images belonging to 33 classes.\n"
     ]
    }
   ]
  },
  {
   "cell_type": "markdown",
   "source": [
    "# Image Preprocessing"
   ],
   "metadata": {
    "collapsed": false
   }
  },
  {
   "cell_type": "markdown",
   "source": [
    "## Steps:\n",
    "<ul>\n",
    "<li>Resize</li>\n",
    "<li>Grayscale</li>\n",
    "<li>Denoise</li>\n",
    "<li>Histogram Equalization</li>\n",
    "<li>Normalization</li>\n",
    "<li>Binarization</li>\n",
    "</ul>"
   ],
   "metadata": {
    "id": "lekoTt6ivQzi"
   }
  },
  {
   "cell_type": "code",
   "source": [
    "def preprocess_image(image, size=(128, 128)):\n",
    "    image = cv2.resize(image, size)\n",
    "    grayscale = cv2.cvtColor(image, cv2.COLOR_BGR2GRAY)\n",
    "    denoised = cv2.fastNlMeansDenoising(grayscale, h=10)\n",
    "    equalized = cv2.equalizeHist(denoised)\n",
    "    normalized = equalized / 255.0\n",
    "    _, binary = cv2.threshold(normalized, 0.5, 1.0, cv2.THRESH_BINARY)\n",
    "    return binary"
   ],
   "metadata": {
    "id": "1GF_otO3uMUT",
    "ExecuteTime": {
     "end_time": "2024-12-18T06:41:00.669141500Z",
     "start_time": "2024-12-18T06:41:00.616913200Z"
    }
   },
   "execution_count": 36,
   "outputs": []
  },
  {
   "cell_type": "code",
   "outputs": [],
   "source": [
    "def save_preprocessed_images(input_dir, output_dir):\n",
    "    for folder in os.listdir(input_dir):\n",
    "        folder_path = os.path.join(input_dir, folder)\n",
    "        if not os.path.isdir(folder_path):\n",
    "            continue\n",
    "        \n",
    "        output_folder = os.path.join(output_dir, folder)\n",
    "        os.makedirs(output_folder, exist_ok=True)\n",
    "        \n",
    "        for file_name in os.listdir(folder_path):\n",
    "            file_path = os.path.join(folder_path, file_name)\n",
    "            if not file_name.lower().endswith(('png', 'jpg', 'jpeg')):\n",
    "                continue\n",
    "            image = cv2.imread(file_path)\n",
    "            preprocessed_image = preprocess_image(image)\n",
    "            output_file = os.path.join(output_folder, file_name)\n",
    "            cv2.imwrite(output_file, (preprocessed_image * 255).astype(np.uint8))\n",
    "input_dir = 'Deepdive/train'\n",
    "output_dir = 'Deepdive/train_preprocessed'\n",
    "save_preprocessed_images(input_dir, output_dir)"
   ],
   "metadata": {
    "collapsed": false,
    "ExecuteTime": {
     "end_time": "2024-12-18T06:44:03.401046700Z",
     "start_time": "2024-12-18T06:42:53.019801900Z"
    }
   },
   "execution_count": 38
  },
  {
   "cell_type": "markdown",
   "source": [
    "# Data Augmentation"
   ],
   "metadata": {
    "id": "xsBijRp8wFpA"
   }
  },
  {
   "cell_type": "code",
   "source": [
    "from tensorflow.keras.preprocessing.image import ImageDataGenerator\n",
    "import numpy as np\n",
    "import os\n",
    "import cv2\n",
    "\n",
    "# Define the augmentation generator\n",
    "datagen = ImageDataGenerator(\n",
    "    rotation_range=30,\n",
    "    width_shift_range=0.1,\n",
    "    height_shift_range=0.1,\n",
    "    shear_range=0.2,\n",
    "    zoom_range=0.2,\n",
    "    horizontal_flip=True,\n",
    "    fill_mode='nearest'\n",
    ")\n",
    "\n",
    "def augment_images(image_dir, save_dir, augmentations=5):\n",
    "    for folder in os.listdir(image_dir):\n",
    "        folder_path = os.path.join(image_dir, folder)\n",
    "        if not os.path.isdir(folder_path):\n",
    "            continue\n",
    "        \n",
    "        save_folder = os.path.join(save_dir, folder)\n",
    "        os.makedirs(save_folder, exist_ok=True)\n",
    "        \n",
    "        for file_name in os.listdir(folder_path):\n",
    "            file_path = os.path.join(folder_path, file_name)\n",
    "            if not file_name.lower().endswith(('png', 'jpg', 'jpeg')):\n",
    "                continue\n",
    "            \n",
    "            # Read and resize image\n",
    "            image = cv2.imread(file_path)\n",
    "            image = cv2.resize(image, (128, 128))  # Ensure consistent size\n",
    "            \n",
    "            # Expand dimensions for ImageDataGenerator\n",
    "            image = np.expand_dims(image, axis=0)\n",
    "            \n",
    "            # Generate augmentations\n",
    "            i = 0\n",
    "            for batch in datagen.flow(image, batch_size=1, save_to_dir=save_folder,\n",
    "                                      save_prefix='aug', save_format='png'):\n",
    "                i += 1\n",
    "                if i >= augmentations:\n",
    "                    break\n"
   ],
   "metadata": {
    "id": "lu2JB93awEqI",
    "ExecuteTime": {
     "end_time": "2024-12-18T06:49:45.998135300Z",
     "start_time": "2024-12-18T06:49:45.986135Z"
    }
   },
   "execution_count": 46,
   "outputs": []
  },
  {
   "cell_type": "code",
   "outputs": [],
   "source": [
    "from scipy import ndimage\n",
    "\n",
    "augment_images(output_dir, 'Deepdive/train_augmented')"
   ],
   "metadata": {
    "collapsed": false,
    "ExecuteTime": {
     "end_time": "2024-12-18T06:53:39.586487400Z",
     "start_time": "2024-12-18T06:50:02.958692800Z"
    }
   },
   "execution_count": 49
  },
  {
   "cell_type": "code",
   "outputs": [],
   "source": [],
   "metadata": {
    "collapsed": false
   }
  }
 ]
}
